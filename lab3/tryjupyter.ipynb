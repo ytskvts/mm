{
 "cells": [
  {
   "cell_type": "markdown",
   "id": "ccd3d9a0",
   "metadata": {},
   "source": [
    "# СМО с неограниченной взаимопощью"
   ]
  },
  {
   "cell_type": "code",
   "execution_count": 1,
   "id": "00424324",
   "metadata": {},
   "outputs": [],
   "source": [
    "import simpy\n",
    "import numpy as np\n",
    "import math\n",
    "from functools import reduce\n",
    "from scipy.stats import chisquare\n",
    "import matplotlib.pyplot as plt"
   ]
  },
  {
   "cell_type": "markdown",
   "id": "8b8964fe",
   "metadata": {},
   "source": [
    "## Модель СМО с неограниченной взаимопощью"
   ]
  },
  {
   "cell_type": "code",
   "execution_count": 2,
   "id": "03fdfd1a",
   "metadata": {},
   "outputs": [],
   "source": [
    "class QS_with_help(object):\n",
    "    def __init__(self, n, lambd, f_k, env):\n",
    "        ##queuing system params\n",
    "        self.n = n\n",
    "        self.lambd = lambd\n",
    "        self.f_k = f_k\n",
    "        ##making requests simulation\n",
    "        self.env = env\n",
    "        self.loader = simpy.Resource(env, 1)\n",
    "        ##observable values\n",
    "        self.L_queuing_system_lst = []\n",
    "        self.t_queuing_system_lst = []\n",
    "    \n",
    "    def request_processing(self):\n",
    "        yield self.env.timeout(np.random.exponential(1/self.f_k(self.n)))\n",
    " "
   ]
  },
  {
   "cell_type": "markdown",
   "id": "9fcac453",
   "metadata": {},
   "source": [
    "## Модель СМО без взаимопомощи"
   ]
  },
  {
   "cell_type": "code",
   "execution_count": 3,
   "id": "2ce79c22",
   "metadata": {},
   "outputs": [],
   "source": [
    "class QS_without_help(object):\n",
    "    def __init__(self, n, lambd, mu, env):\n",
    "        ##queuing system params\n",
    "        self.n = n\n",
    "        self.lambd = lambd\n",
    "        self.mu = mu\n",
    "        ##making requests simulation\n",
    "        self.env = env\n",
    "        self.loader = simpy.Resource(env, n)\n",
    "        ##observable values\n",
    "        self.L_queuing_system_lst = []\n",
    "        self.t_queuing_system_lst = []\n",
    "    \n",
    "    def request_processing(self):\n",
    "        yield self.env.timeout(np.random.exponential(1/self.mu))"
   ]
  },
  {
   "cell_type": "markdown",
   "id": "dcef7471",
   "metadata": {},
   "source": [
    "## Модель процессов в СМО"
   ]
  },
  {
   "cell_type": "code",
   "execution_count": 4,
   "id": "607127f0",
   "metadata": {},
   "outputs": [],
   "source": [
    "def make_request(qs, env, with_help = True):\n",
    "    n_occuped_before = qs.loader.count * (qs.n if with_help else 1)\n",
    "    qs.L_queuing_system_lst.append(n_occuped_before)\n",
    "    \n",
    "    with qs.loader.request() as request:\n",
    "        queque_len_after = len(qs.loader.queue)\n",
    "        if queque_len_after <= 0:\n",
    "            arrival_time = env.now\n",
    "            \n",
    "            yield request\n",
    "            \n",
    "            yield env.process(qs.request_processing())\n",
    "            qs.t_queuing_system_lst.append(env.now - arrival_time)\n",
    "            \n",
    "        else:\n",
    "            qs.t_queuing_system_lst.append(0)"
   ]
  },
  {
   "cell_type": "code",
   "execution_count": 5,
   "id": "ae051d73",
   "metadata": {},
   "outputs": [],
   "source": [
    "def run_queuing_system(qs, env, with_help = True):\n",
    "    while True:\n",
    "        yield env.timeout(np.random.exponential(1/qs.lambd))\n",
    "        env.process(make_request(qs, env, with_help))"
   ]
  },
  {
   "cell_type": "markdown",
   "id": "f5f7d58e",
   "metadata": {},
   "source": [
    "## Тестовые функции"
   ]
  },
  {
   "cell_type": "code",
   "execution_count": 6,
   "id": "6fcf06e3",
   "metadata": {},
   "outputs": [],
   "source": [
    "def test_qs_with_help(n, lambd, f_k, test_time):\n",
    "    env = simpy.Environment()\n",
    "    qs = QS_with_help(n, lambd, f_k, env) \n",
    "    env.process(run_queuing_system(qs, env))\n",
    "    env.run(until=test_time)\n",
    "    return qs.t_queuing_system_lst, qs.L_queuing_system_lst"
   ]
  },
  {
   "cell_type": "code",
   "execution_count": 7,
   "id": "3339add6",
   "metadata": {},
   "outputs": [],
   "source": [
    "def test_qs_without_help(n, lambd, mu, test_time):\n",
    "    env = simpy.Environment()\n",
    "    qs = QS_without_help(n, lambd, mu, env) \n",
    "    env.process(run_queuing_system(qs, env, with_help=False))\n",
    "    env.run(until=test_time)\n",
    "    return qs.t_queuing_system_lst, qs.L_queuing_system_lst"
   ]
  },
  {
   "cell_type": "code",
   "execution_count": 8,
   "id": "725039f4",
   "metadata": {},
   "outputs": [],
   "source": [
    "def get_chi2(theoretical_characteristic, empirical_characteristic):\n",
    "    t_estimation_lst = theoretical_characteristic[0] + [\n",
    "        theoretical_characteristic[i] for i in range(1, len(theoretical_characteristic))\n",
    "    ]\n",
    "    e_estimation_lst = empirical_characteristic[0] + [\n",
    "        empirical_characteristic[i] for i in range(1, len(empirical_characteristic))\n",
    "    ]\n",
    "    return chisquare(e_estimation_lst, f_exp=t_estimation_lst)"
   ]
  },
  {
   "cell_type": "markdown",
   "id": "6aa4b257",
   "metadata": {},
   "source": [
    "## Характеристики СМО с неограниченной взаимопомощью"
   ]
  },
  {
   "cell_type": "code",
   "execution_count": 9,
   "id": "c67ce2d8",
   "metadata": {},
   "outputs": [],
   "source": [
    "def get_e_char_with_help(test_results, n, lambd, f_k):\n",
    "    t_queuing_system_lst, L_queuing_system_lst  = test_results\n",
    "    p = []\n",
    "    for i in range(2):\n",
    "        request_frequency = reduce( lambda count, x: count+1 if x==i*n else count , L_queuing_system_lst, 0)\n",
    "        p.append(request_frequency / len(L_queuing_system_lst))\n",
    "    p_reject = p[-1]\n",
    "    Q = 1 - p_reject\n",
    "    A = lambd * Q\n",
    "    n_occuped = Q * lambd / f_k(n)\n",
    "    L_queuing_system = sum(L_queuing_system_lst) / len(L_queuing_system_lst)\n",
    "    t_queuing_system = sum(t_queuing_system_lst) / len(t_queuing_system_lst)\n",
    "    \n",
    "    return p, A, p_reject, L_queuing_system, t_queuing_system, n_occuped"
   ]
  },
  {
   "cell_type": "code",
   "execution_count": 10,
   "id": "6eb4f1be",
   "metadata": {},
   "outputs": [],
   "source": [
    "def get_t_char_with_help(n, lambd, f_k):\n",
    "    p=[]\n",
    "    p_0 = (1+lambd/f_k(n)) ** (-1)\n",
    "    p.append(p_0)\n",
    "    p_1 = lambd/f_k(n)*p_0\n",
    "    p.append(p_1)\n",
    "    \n",
    "    p_reject = p[1]\n",
    "    Q = 1 - p_reject\n",
    "    A = lambd * Q\n",
    "    n_occuped = Q * lambd / f_k(n)\n",
    "    L_queuing_system = sum([k*n*p[k] for k in range(2)])\n",
    "    t_queuing_system = L_queuing_system / lambd\n",
    "    \n",
    "    return p, A, p_reject, L_queuing_system, t_queuing_system, n_occuped"
   ]
  },
  {
   "cell_type": "markdown",
   "id": "b1a2f66d",
   "metadata": {},
   "source": [
    "## Характеристики СМО без взаимопощи"
   ]
  },
  {
   "cell_type": "code",
   "execution_count": 11,
   "id": "5734a1df",
   "metadata": {},
   "outputs": [],
   "source": [
    "def get_e_char_without_help(test_results, n, lambd, mu):\n",
    "    t_queuing_system_lst, L_queuing_system_lst  = test_results\n",
    "    p = []\n",
    "    for i in range(n+1):\n",
    "        request_frequency = reduce( lambda count, x: count+1 if x==i else count , L_queuing_system_lst, 0)\n",
    "        p.append(request_frequency / len(L_queuing_system_lst))\n",
    "    p_reject = p[-1]\n",
    "    Q = 1 - p_reject\n",
    "    A = lambd * Q\n",
    "    n_occuped = Q * lambd / mu\n",
    "    L_queuing_system = sum(L_queuing_system_lst) / len(L_queuing_system_lst)\n",
    "    t_queuing_system = sum(t_queuing_system_lst) / len(t_queuing_system_lst)\n",
    "    \n",
    "    return p, A, p_reject, L_queuing_system, t_queuing_system, n_occuped"
   ]
  },
  {
   "cell_type": "code",
   "execution_count": 12,
   "id": "85f4113a",
   "metadata": {},
   "outputs": [],
   "source": [
    "def get_t_char_without_help(n, lambd, mu):\n",
    "    ro = lambd / mu\n",
    "    p=[]\n",
    "    \n",
    "    p_0 = (sum([ ro ** i / math.factorial(i) for i in range (n+1)])) ** (-1)\n",
    "    p.append(p_0)\n",
    "    for k in range(1,n+1):\n",
    "        p_k = ro ** k / math.factorial(k) * p[0]\n",
    "        p.append(p_k)\n",
    "    \n",
    "    p_reject = p[-1]\n",
    "    Q = 1 - p_reject\n",
    "    A = lambd * Q\n",
    "    n_occuped = Q * lambd / mu\n",
    "    L_queuing_system = sum([k*p[k] for k in range(n+1)])\n",
    "    t_queuing_system = L_queuing_system / lambd\n",
    "    \n",
    "    return p, A, p_reject, L_queuing_system, t_queuing_system, n_occuped"
   ]
  },
  {
   "cell_type": "markdown",
   "id": "372a5de4",
   "metadata": {},
   "source": [
    "#### Результаты"
   ]
  },
  {
   "cell_type": "code",
   "execution_count": 13,
   "id": "95df665e",
   "metadata": {},
   "outputs": [],
   "source": [
    "def table_formation(values, row_labels, char_with_help, char_without_help, label):\n",
    "    \n",
    "    p_h, A_h, p_reject_h, L_queuing_system_h, t_queuing_system_h, n_occuped_h = char_with_help\n",
    "    p, A, p_reject, L_queuing_system, t_queuing_system, n_occuped = char_without_help\n",
    "    \n",
    "    for i in range(len(p_h)):\n",
    "        print( f'{label} p{(i)} of system with unlimited mutual help: {p_h[i]}')\n",
    "    print()\n",
    "    \n",
    "    for i in range(len(p)):\n",
    "        print( f'{label} p{(i)} of system without help: {p[i]}')\n",
    "    print()\n",
    "        \n",
    "    row_labels.append(f'{label} A')\n",
    "    values.append([A_h, A])\n",
    "    row_labels.append(f'{label} p_reject')\n",
    "    values.append([p_reject_h, p_reject])\n",
    "    row_labels.append(f'{label} L_queuing_system')\n",
    "    values.append([L_queuing_system_h, L_queuing_system])\n",
    "    row_labels.append(f'{label} t_queuing_system')\n",
    "    values.append([t_queuing_system_h, t_queuing_system])\n",
    "    row_labels.append(f'{label} n_occuped')\n",
    "    values.append([n_occuped_h, n_occuped])\n",
    "    \n",
    "    return values, row_labels\n",
    "\n",
    "def display(t_char_with_help, e_char_with_help, t_char_without_help, e_char_without_help):\n",
    "    col_labels = ['With unlimited mutual help', 'Without help']\n",
    "    \n",
    "    values = []\n",
    "    row_labels = []\n",
    "    \n",
    "    \n",
    "    values, row_labels = table_formation(values, row_labels, t_char_with_help, t_char_without_help, 'Theoretical')\n",
    "    values, row_labels = table_formation(values, row_labels, e_char_with_help, e_char_without_help, 'Empirical')\n",
    "    \n",
    "    row_labels.append('Chi-square test')\n",
    "    values.append([get_chi2(t_char_with_help, e_char_with_help), \n",
    "                   get_chi2(t_char_without_help, e_char_without_help)])\n",
    "    \n",
    "    fig, ax = plt.subplots( figsize=(16, 5) ) \n",
    "    ax.set_axis_off() \n",
    "    table = ax.table( \n",
    "        cellText = values,  \n",
    "        rowLabels = row_labels,  \n",
    "        colLabels = col_labels, \n",
    "        rowColours =[\"palegreen\"] * len(row_labels),  \n",
    "        colColours =[\"palegreen\"] * len(col_labels), \n",
    "        cellLoc ='center',  \n",
    "        loc ='upper left'\n",
    "    )"
   ]
  },
  {
   "cell_type": "markdown",
   "id": "60920bf9",
   "metadata": {},
   "source": [
    "## Тесты"
   ]
  },
  {
   "cell_type": "markdown",
   "id": "504312eb",
   "metadata": {},
   "source": [
    "### Тест №1\n",
    "#### Сравнение системы с неограниченной взаимопомощью (n=2, $\\lambda$=2, f(k)=k) и без (n=2, $\\lambda$=2, $\\mu$=1)"
   ]
  },
  {
   "cell_type": "code",
   "execution_count": 14,
   "id": "035c5382",
   "metadata": {},
   "outputs": [
    {
     "name": "stdout",
     "output_type": "stream",
     "text": [
      "Theoretical p0 of system with unlimited mutual help: 0.5\n",
      "Theoretical p1 of system with unlimited mutual help: 0.5\n",
      "\n",
      "Theoretical p0 of system without help: 0.2\n",
      "Theoretical p1 of system without help: 0.4\n",
      "Theoretical p2 of system without help: 0.4\n",
      "\n",
      "Empirical p0 of system with unlimited mutual help: 0.49825592983854894\n",
      "Empirical p1 of system with unlimited mutual help: 0.5017440701614511\n",
      "\n",
      "Empirical p0 of system without help: 0.19861431870669746\n",
      "Empirical p1 of system without help: 0.3954212270308264\n",
      "Empirical p2 of system without help: 0.4059644542624761\n",
      "\n"
     ]
    },
    {
     "ename": "ValueError",
     "evalue": "For each axis slice, the sum of the observed frequencies must agree with the sum of the expected frequencies to a relative tolerance of 1e-08, but the percent differences are:\n0.05910200408417233",
     "output_type": "error",
     "traceback": [
      "\u001b[0;31m---------------------------------------------------------------------------\u001b[0m",
      "\u001b[0;31mValueError\u001b[0m                                Traceback (most recent call last)",
      "\u001b[0;32m/var/folders/b0/jnz5j2d96nnfz_lf4xl1xwk00000gn/T/ipykernel_90247/4027705208.py\u001b[0m in \u001b[0;36m<module>\u001b[0;34m\u001b[0m\n\u001b[1;32m     11\u001b[0m \u001b[0me_char_without_help\u001b[0m \u001b[0;34m=\u001b[0m \u001b[0mget_e_char_without_help\u001b[0m\u001b[0;34m(\u001b[0m\u001b[0mtest_results_without_help\u001b[0m\u001b[0;34m,\u001b[0m \u001b[0mn\u001b[0m\u001b[0;34m,\u001b[0m \u001b[0mlambd\u001b[0m\u001b[0;34m,\u001b[0m \u001b[0mmu\u001b[0m\u001b[0;34m)\u001b[0m\u001b[0;34m\u001b[0m\u001b[0;34m\u001b[0m\u001b[0m\n\u001b[1;32m     12\u001b[0m \u001b[0;34m\u001b[0m\u001b[0m\n\u001b[0;32m---> 13\u001b[0;31m \u001b[0mdisplay\u001b[0m\u001b[0;34m(\u001b[0m\u001b[0mt_char_with_help\u001b[0m\u001b[0;34m,\u001b[0m \u001b[0me_char_with_help\u001b[0m\u001b[0;34m,\u001b[0m \u001b[0mt_char_without_help\u001b[0m\u001b[0;34m,\u001b[0m \u001b[0me_char_without_help\u001b[0m\u001b[0;34m)\u001b[0m\u001b[0;34m\u001b[0m\u001b[0;34m\u001b[0m\u001b[0m\n\u001b[0m\u001b[1;32m     14\u001b[0m \u001b[0;34m\u001b[0m\u001b[0m\n",
      "\u001b[0;32m/var/folders/b0/jnz5j2d96nnfz_lf4xl1xwk00000gn/T/ipykernel_90247/2966494180.py\u001b[0m in \u001b[0;36mdisplay\u001b[0;34m(t_char_with_help, e_char_with_help, t_char_without_help, e_char_without_help)\u001b[0m\n\u001b[1;32m     36\u001b[0m \u001b[0;34m\u001b[0m\u001b[0m\n\u001b[1;32m     37\u001b[0m     \u001b[0mrow_labels\u001b[0m\u001b[0;34m.\u001b[0m\u001b[0mappend\u001b[0m\u001b[0;34m(\u001b[0m\u001b[0;34m'Chi-square test'\u001b[0m\u001b[0;34m)\u001b[0m\u001b[0;34m\u001b[0m\u001b[0;34m\u001b[0m\u001b[0m\n\u001b[0;32m---> 38\u001b[0;31m     values.append([get_chi2(t_char_with_help, e_char_with_help), \n\u001b[0m\u001b[1;32m     39\u001b[0m                    get_chi2(t_char_without_help, e_char_without_help)])\n\u001b[1;32m     40\u001b[0m \u001b[0;34m\u001b[0m\u001b[0m\n",
      "\u001b[0;32m/var/folders/b0/jnz5j2d96nnfz_lf4xl1xwk00000gn/T/ipykernel_90247/3039360236.py\u001b[0m in \u001b[0;36mget_chi2\u001b[0;34m(theoretical_characteristic, empirical_characteristic)\u001b[0m\n\u001b[1;32m      6\u001b[0m         \u001b[0mempirical_characteristic\u001b[0m\u001b[0;34m[\u001b[0m\u001b[0mi\u001b[0m\u001b[0;34m]\u001b[0m \u001b[0;32mfor\u001b[0m \u001b[0mi\u001b[0m \u001b[0;32min\u001b[0m \u001b[0mrange\u001b[0m\u001b[0;34m(\u001b[0m\u001b[0;36m1\u001b[0m\u001b[0;34m,\u001b[0m \u001b[0mlen\u001b[0m\u001b[0;34m(\u001b[0m\u001b[0mempirical_characteristic\u001b[0m\u001b[0;34m)\u001b[0m\u001b[0;34m)\u001b[0m\u001b[0;34m\u001b[0m\u001b[0;34m\u001b[0m\u001b[0m\n\u001b[1;32m      7\u001b[0m     ]\n\u001b[0;32m----> 8\u001b[0;31m     \u001b[0;32mreturn\u001b[0m \u001b[0mchisquare\u001b[0m\u001b[0;34m(\u001b[0m\u001b[0me_estimation_lst\u001b[0m\u001b[0;34m,\u001b[0m \u001b[0mf_exp\u001b[0m\u001b[0;34m=\u001b[0m\u001b[0mt_estimation_lst\u001b[0m\u001b[0;34m)\u001b[0m\u001b[0;34m\u001b[0m\u001b[0;34m\u001b[0m\u001b[0m\n\u001b[0m",
      "\u001b[0;32m~/Desktop/matmod/mm/lab3/venv/lib/python3.8/site-packages/scipy/stats/stats.py\u001b[0m in \u001b[0;36mchisquare\u001b[0;34m(f_obs, f_exp, ddof, axis)\u001b[0m\n\u001b[1;32m   6850\u001b[0m \u001b[0;34m\u001b[0m\u001b[0m\n\u001b[1;32m   6851\u001b[0m     \"\"\"\n\u001b[0;32m-> 6852\u001b[0;31m     return power_divergence(f_obs, f_exp=f_exp, ddof=ddof, axis=axis,\n\u001b[0m\u001b[1;32m   6853\u001b[0m                             lambda_=\"pearson\")\n\u001b[1;32m   6854\u001b[0m \u001b[0;34m\u001b[0m\u001b[0m\n",
      "\u001b[0;32m~/Desktop/matmod/mm/lab3/venv/lib/python3.8/site-packages/scipy/stats/stats.py\u001b[0m in \u001b[0;36mpower_divergence\u001b[0;34m(f_obs, f_exp, ddof, axis, lambda_)\u001b[0m\n\u001b[1;32m   6692\u001b[0m                    \u001b[0;34mf\"of {rtol}, but the percent differences are:\\n\"\u001b[0m\u001b[0;34m\u001b[0m\u001b[0;34m\u001b[0m\u001b[0m\n\u001b[1;32m   6693\u001b[0m                    f\"{relative_diff}\")\n\u001b[0;32m-> 6694\u001b[0;31m             \u001b[0;32mraise\u001b[0m \u001b[0mValueError\u001b[0m\u001b[0;34m(\u001b[0m\u001b[0mmsg\u001b[0m\u001b[0;34m)\u001b[0m\u001b[0;34m\u001b[0m\u001b[0;34m\u001b[0m\u001b[0m\n\u001b[0m\u001b[1;32m   6695\u001b[0m \u001b[0;34m\u001b[0m\u001b[0m\n\u001b[1;32m   6696\u001b[0m     \u001b[0;32melse\u001b[0m\u001b[0;34m:\u001b[0m\u001b[0;34m\u001b[0m\u001b[0;34m\u001b[0m\u001b[0m\n",
      "\u001b[0;31mValueError\u001b[0m: For each axis slice, the sum of the observed frequencies must agree with the sum of the expected frequencies to a relative tolerance of 1e-08, but the percent differences are:\n0.05910200408417233"
     ]
    }
   ],
   "source": [
    "n, lambd, mu = 2, 2 , 1\n",
    "f_k = lambda x: mu*x\n",
    "\n",
    "t_char_with_help = get_t_char_with_help(n, lambd, f_k)\n",
    "t_char_without_help = get_t_char_without_help(n, lambd, mu)\n",
    "\n",
    "test_results_with_help = test_qs_with_help(n, lambd, f_k, 10000)\n",
    "test_results_without_help = test_qs_without_help(n, lambd, mu, 10000)\n",
    "\n",
    "e_char_with_help = get_e_char_with_help(test_results_with_help, n, lambd, f_k)\n",
    "e_char_without_help = get_e_char_without_help(test_results_without_help, n, lambd, mu)\n",
    "\n",
    "display(t_char_with_help, e_char_with_help, t_char_without_help, e_char_without_help)\n",
    "\n"
   ]
  },
  {
   "cell_type": "markdown",
   "id": "fd139b54",
   "metadata": {},
   "source": [
    "### Тест №2\n",
    "#### Сравнение системы с неограниченной взаимопомощью (n=3, $\\lambda$=5, f(k)=2k) и без (n=3, $\\lambda$=5, $\\mu$=2)"
   ]
  },
  {
   "cell_type": "code",
   "execution_count": null,
   "id": "414d4a8c",
   "metadata": {},
   "outputs": [],
   "source": [
    "n, lambd, mu = 3, 5, 2\n",
    "f_k = lambda x: mu * x\n",
    "\n",
    "t_char_with_help = get_t_char_with_help(n, lambd, f_k)\n",
    "t_char_without_help = get_t_char_without_help(n, lambd, mu)\n",
    "\n",
    "test_results_with_help = test_qs_with_help(n, lambd, f_k, 10000)\n",
    "test_results_without_help = test_qs_without_help(n, lambd, mu, 10000)\n",
    "\n",
    "e_char_with_help = get_e_char_with_help(test_results_with_help, n, lambd, f_k)\n",
    "e_char_without_help = get_e_char_without_help(test_results_without_help, n, lambd, mu)\n",
    "\n",
    "display(t_char_with_help, e_char_with_help, t_char_without_help, e_char_without_help)"
   ]
  },
  {
   "cell_type": "markdown",
   "id": "8576053d",
   "metadata": {},
   "source": [
    "### Тест №3 (n=7, $\\lambda$=12, f(k)=3k)\n",
    "#### Сравнение системы с неограниченной взаимопомощью (n=7, $\\lambda$=12, f(k)=3k) и без (n=7, $\\lambda$=12, $\\mu$=3)"
   ]
  },
  {
   "cell_type": "code",
   "execution_count": null,
   "id": "d35104df",
   "metadata": {},
   "outputs": [],
   "source": [
    "n, lambd, mu = 7, 12, 3\n",
    "f_k = lambda x: mu * x\n",
    "\n",
    "t_char_with_help = get_t_char_with_help(n, lambd, f_k)\n",
    "t_char_without_help = get_t_char_without_help(n, lambd, mu)\n",
    "\n",
    "test_results_with_help = test_qs_with_help(n, lambd, f_k, 10000)\n",
    "test_results_without_help = test_qs_without_help(n, lambd, mu, 10000)\n",
    "\n",
    "e_char_with_help = get_e_char_with_help(test_results_with_help, n, lambd, f_k)\n",
    "e_char_without_help = get_e_char_without_help(test_results_without_help, n, lambd, mu)\n",
    "\n",
    "display(t_char_with_help, e_char_with_help, t_char_without_help, e_char_without_help)"
   ]
  },
  {
   "cell_type": "markdown",
   "id": "3078a3a7",
   "metadata": {},
   "source": [
    "## Графики, которые показывают формирование установившегося состояния в СМО при неограниченной взаимопомощи"
   ]
  },
  {
   "cell_type": "code",
   "execution_count": null,
   "id": "2462b5c3",
   "metadata": {},
   "outputs": [],
   "source": [
    "n, lambd, f_k = 2, 1 , lambda x: x\n",
    "times = [i*50 for i in range(1,201)]\n",
    "\n",
    "p0, p1 = [],[]\n",
    "for time in times:\n",
    "    test_results = test_qs_with_help(n, lambd, f_k, time)\n",
    "    empirical_characteristic = get_e_char_with_help(test_results, n, lambd, f_k)\n",
    "    p0.append(empirical_characteristic[0][0])\n",
    "    p1.append(empirical_characteristic[0][1])\n",
    "\n",
    "p_theoretical = get_t_char_with_help(n, lambd, f_k)[0]\n",
    "\n",
    "fig, (ax0, ax1) = plt.subplots(ncols=1, nrows=2, figsize=(16, 28), \n",
    "                                         gridspec_kw={'height_ratios': [1, 1], 'width_ratios': [1]}\n",
    "                                        )\n",
    "x = np.linspace(0, 10, 10000)\n",
    "\n",
    "ax0.set_title('p0')\n",
    "ax0.plot(times, [p_theoretical[0]]*len(times), '-k')\n",
    "ax0.fill_between(times, y1=p0, color='b', step='post', alpha=0.5)\n",
    "\n",
    "ax1.set_title('p1')\n",
    "ax1.plot(times, [p_theoretical[1]]*len(times), '-k')\n",
    "ax1.fill_between(times, y1=p1, color='r', step='post', alpha=0.5)\n",
    "\n",
    "fig.tight_layout()"
   ]
  },
  {
   "cell_type": "markdown",
   "id": "4a4de528",
   "metadata": {},
   "source": [
    "## Графики, которые показывают формирование установившегося состояния в СМО без взаимопомощи"
   ]
  },
  {
   "cell_type": "code",
   "execution_count": 15,
   "id": "3f9224a4",
   "metadata": {},
   "outputs": [
    {
     "data": {
      "image/png": "[encoded data removed]",
      "text/plain": [
       "<Figure size 1152x2016 with 3 Axes>"
      ]
     },
     "metadata": {
      "needs_background": "light"
     },
     "output_type": "display_data"
    }
   ],
   "source": [
    "n, lambd, mu = 2, 1 , 1\n",
    "times = [i*50 for i in range(1,201)]\n",
    "\n",
    "p0, p1, p2 = [],[],[]\n",
    "for time in times:\n",
    "    test_results = test_qs_without_help(n, lambd, mu, time)\n",
    "    empirical_characteristic = get_e_char_without_help(test_results, n, lambd, mu)\n",
    "    p0.append(empirical_characteristic[0][0])\n",
    "    p1.append(empirical_characteristic[0][1])\n",
    "    p2.append(empirical_characteristic[0][2])\n",
    "\n",
    "p_theoretical = get_t_char_without_help(n, lambd, mu)[0]\n",
    "\n",
    "fig, (ax0, ax1, ax2) = plt.subplots(ncols=1, nrows=3, figsize=(16, 28), \n",
    "                                         gridspec_kw={'height_ratios': [1, 1, 1], 'width_ratios': [1]}\n",
    "                                        )\n",
    "x = np.linspace(0, 10, 10000)\n",
    "\n",
    "ax0.set_title('p0')\n",
    "ax0.plot(times, [p_theoretical[0]]*len(times), '-k')\n",
    "ax0.fill_between(times, y1=p0, color='b', step='post', alpha=0.5)\n",
    "\n",
    "ax1.set_title('p1')\n",
    "ax1.plot(times, [p_theoretical[1]]*len(times), '-k')\n",
    "ax1.fill_between(times, y1=p1, color='r', step='post', alpha=0.5)\n",
    "\n",
    "ax2.set_title('p2')\n",
    "ax2.plot(times, [p_theoretical[2]]*len(times), '-k')\n",
    "ax2.fill_between(times, y1=p2, color='g', step='post', alpha=0.5)\n",
    "\n",
    "fig.tight_layout()\n",
    "\n"
   ]
  },
  {
   "cell_type": "code",
   "execution_count": null,
   "id": "32eb424d",
   "metadata": {},
   "outputs": [],
   "source": []
  },
  {
   "cell_type": "code",
   "execution_count": null,
   "id": "b97269e6",
   "metadata": {},
   "outputs": [],
   "source": []
  }
 ],
 "metadata": {
  "kernelspec": {
   "display_name": "Python 3 (ipykernel)",
   "language": "python",
   "name": "python3"
  },
  "language_info": {
   "codemirror_mode": {
    "name": "ipython",
    "version": 3
   },
   "file_extension": ".py",
   "mimetype": "text/x-python",
   "name": "python",
   "nbconvert_exporter": "python",
   "pygments_lexer": "ipython3",
   "version": "3.8.5"
  }
 },
 "nbformat": 4,
 "nbformat_minor": 5
}
